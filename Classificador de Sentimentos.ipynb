{
 "cells": [
  {
   "cell_type": "code",
   "execution_count": null,
   "metadata": {},
   "outputs": [],
   "source": [
    "# Classificação de Sentimentos - Tensor Flow"
   ]
  },
  {
   "cell_type": "code",
   "execution_count": null,
   "metadata": {},
   "outputs": [],
   "source": [
    "import pandas as pd\n",
    "import numpy as np\n",
    "import tensorflow as tf\n",
    "from tensorflow.keras.preprocessing.text import Tokenizer\n",
    "from tensorflow.keras.preprocessing.sequence import pad_sequences"
   ]
  },
  {
   "cell_type": "code",
   "execution_count": 3,
   "metadata": {},
   "outputs": [
    {
     "name": "stdout",
     "output_type": "stream",
     "text": [
      "\u001b[01;34m.\u001b[00m\r\n",
      "├── Classificador de Sentimentos.ipynb\r\n",
      "├── \u001b[01;34mDatasets\u001b[00m\r\n",
      "│   ├── NoThemeTweets.csv\r\n",
      "│   ├── \u001b[01;34mtestdatasets\u001b[00m\r\n",
      "│   │   ├── Test3classes.csv\r\n",
      "│   │   ├── Test.csv\r\n",
      "│   │   └── TestTema.csv\r\n",
      "│   ├── \u001b[01;34mTestDatasets\u001b[00m\r\n",
      "│   │   ├── Test3classes.csv\r\n",
      "│   │   ├── Test.csv\r\n",
      "│   │   └── TestTema.csv\r\n",
      "│   ├── \u001b[01;34mtrainingdatasets\u001b[00m\r\n",
      "│   │   ├── Train100.csv\r\n",
      "│   │   ├── Train200.csv\r\n",
      "│   │   ├── Train300.csv\r\n",
      "│   │   ├── Train3Classes.csv\r\n",
      "│   │   ├── Train400.csv\r\n",
      "│   │   ├── Train500.csv\r\n",
      "│   │   ├── Train50.csv\r\n",
      "│   │   └── TrainTema.csv\r\n",
      "│   ├── \u001b[01;34mTrainingDatasets\u001b[00m\r\n",
      "│   │   ├── Train100.csv\r\n",
      "│   │   ├── Train200.csv\r\n",
      "│   │   ├── Train300.csv\r\n",
      "│   │   ├── Train3Classes.csv\r\n",
      "│   │   ├── Train400.csv\r\n",
      "│   │   ├── Train500.csv\r\n",
      "│   │   ├── Train50.csv\r\n",
      "│   │   └── TrainTema.csv\r\n",
      "│   ├── TweetsNeutralHash.csv\r\n",
      "│   ├── TweetsNeutralNews.csv\r\n",
      "│   └── TweetsWithTheme.csv\r\n",
      "└── README.md\r\n",
      "\r\n",
      "5 directories, 28 files\r\n"
     ]
    }
   ],
   "source": [
    "!tree\n"
   ]
  },
  {
   "cell_type": "code",
   "execution_count": 11,
   "metadata": {},
   "outputs": [],
   "source": [
    "\n",
    "df_train = pd.read_csv(\"Datasets/trainingdatasets/Train500.csv\",encoding='utf-8', sep=';',engine='python')\n",
    "df_train.head()\n",
    "stopword = pd.read_table(\"stopwords.txt\")"
   ]
  },
  {
   "cell_type": "code",
   "execution_count": 12,
   "metadata": {},
   "outputs": [
    {
     "data": {
      "text/html": [
       "<div>\n",
       "<style scoped>\n",
       "    .dataframe tbody tr th:only-of-type {\n",
       "        vertical-align: middle;\n",
       "    }\n",
       "\n",
       "    .dataframe tbody tr th {\n",
       "        vertical-align: top;\n",
       "    }\n",
       "\n",
       "    .dataframe thead th {\n",
       "        text-align: right;\n",
       "    }\n",
       "</style>\n",
       "<table border=\"1\" class=\"dataframe\">\n",
       "  <thead>\n",
       "    <tr style=\"text-align: right;\">\n",
       "      <th></th>\n",
       "      <th>tweet_text</th>\n",
       "      <th>sentiment</th>\n",
       "    </tr>\n",
       "  </thead>\n",
       "  <tbody>\n",
       "    <tr>\n",
       "      <th>0</th>\n",
       "      <td>@Laranjito76 A pessoa certa para isso seria o ...</td>\n",
       "      <td>1</td>\n",
       "    </tr>\n",
       "    <tr>\n",
       "      <th>1</th>\n",
       "      <td>@behin_d_curtain Para mim, é precisamente o co...</td>\n",
       "      <td>1</td>\n",
       "    </tr>\n",
       "    <tr>\n",
       "      <th>2</th>\n",
       "      <td>Vou fazer um video hoje... estou pensando em f...</td>\n",
       "      <td>1</td>\n",
       "    </tr>\n",
       "    <tr>\n",
       "      <th>3</th>\n",
       "      <td>aaaaaaaa amei tanto essas polaroids, nem sei e...</td>\n",
       "      <td>1</td>\n",
       "    </tr>\n",
       "    <tr>\n",
       "      <th>4</th>\n",
       "      <td>Valoriza o coração do menininho que vc tem. El...</td>\n",
       "      <td>1</td>\n",
       "    </tr>\n",
       "  </tbody>\n",
       "</table>\n",
       "</div>"
      ],
      "text/plain": [
       "                                          tweet_text  sentiment\n",
       "0  @Laranjito76 A pessoa certa para isso seria o ...          1\n",
       "1  @behin_d_curtain Para mim, é precisamente o co...          1\n",
       "2  Vou fazer um video hoje... estou pensando em f...          1\n",
       "3  aaaaaaaa amei tanto essas polaroids, nem sei e...          1\n",
       "4  Valoriza o coração do menininho que vc tem. El...          1"
      ]
     },
     "execution_count": 12,
     "metadata": {},
     "output_type": "execute_result"
    }
   ],
   "source": [
    "df_train.drop(['id','tweet_date','query_used'],axis=1,inplace=True)\n",
    "df_train.head()"
   ]
  },
  {
   "cell_type": "code",
   "execution_count": 22,
   "metadata": {},
   "outputs": [],
   "source": [
    "stoplist = []\n",
    "sentences = []\n",
    "for i in range(len(stopword)):\n",
    "    stoplist.append(stopword['stopwords'][i])\n",
    "    \n",
    "for i in range(len(df_train['tweet_text'])):\n",
    "    sentence = df_train['tweet_text'][i]\n",
    "    for word in stoplist:\n",
    "        newword = \" \"+word+\" \"\n",
    "        sentence = sentence.replace(newword,\" \")\n",
    "        sentence = sentence.replace(\"  \",\" \")\n",
    "    sentences.append(sentence)\n",
    "    \n",
    "    "
   ]
  },
  {
   "cell_type": "markdown",
   "metadata": {},
   "source": [
    "agora vamos remover os emojis"
   ]
  },
  {
   "cell_type": "code",
   "execution_count": 29,
   "metadata": {},
   "outputs": [],
   "source": [
    "import re\n",
    "def emoji(string):\n",
    "    emoji_pattern = re.compile(\"[\"\n",
    "                           u\"\\U0001F600-\\U0001F64F\"  # emoticons\n",
    "                           u\"\\U0001F300-\\U0001F5FF\"  # symbols & pictographs\n",
    "                           u\"\\U0001F680-\\U0001F6FF\"  # transport & map symbols\n",
    "                           u\"\\U0001F1E0-\\U0001F1FF\"  # flags (iOS)\n",
    "                           u\"\\U00002702-\\U000027B0\"\n",
    "                           u\"\\U000024C2-\\U0001F251\"\n",
    "                           \"]+\", flags=re.UNICODE)\n",
    "    return emoji_pattern.sub(r'', string)\n"
   ]
  },
  {
   "cell_type": "code",
   "execution_count": 28,
   "metadata": {},
   "outputs": [
    {
     "data": {
      "text/plain": [
       "'aaaaaaaa amei tanto essas polaroids, nem sei expressar o quanto eu to apaixonada de vdd espero que outras pessoas consigam ganhar também :'"
      ]
     },
     "execution_count": 28,
     "metadata": {},
     "output_type": "execute_result"
    }
   ],
   "source": [
    "sentences = map(emoji,s)"
   ]
  },
  {
   "cell_type": "code",
   "execution_count": null,
   "metadata": {},
   "outputs": [],
   "source": []
  }
 ],
 "metadata": {
  "kernelspec": {
   "display_name": "Python 3",
   "language": "python",
   "name": "python3"
  },
  "language_info": {
   "codemirror_mode": {
    "name": "ipython",
    "version": 3
   },
   "file_extension": ".py",
   "mimetype": "text/x-python",
   "name": "python",
   "nbconvert_exporter": "python",
   "pygments_lexer": "ipython3",
   "version": "3.7.4"
  }
 },
 "nbformat": 4,
 "nbformat_minor": 2
}
