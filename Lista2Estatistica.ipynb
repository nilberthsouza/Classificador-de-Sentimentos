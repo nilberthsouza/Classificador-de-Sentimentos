{
  "nbformat": 4,
  "nbformat_minor": 0,
  "metadata": {
    "colab": {
      "name": "Lista2Estatistica.ipynb",
      "provenance": [],
      "authorship_tag": "ABX9TyPGN24ILNH1+Wh8mZdKRDgj",
      "include_colab_link": true
    },
    "kernelspec": {
      "name": "python3",
      "display_name": "Python 3"
    },
    "language_info": {
      "name": "python"
    }
  },
  "cells": [
    {
      "cell_type": "markdown",
      "metadata": {
        "id": "view-in-github",
        "colab_type": "text"
      },
      "source": [
        "<a href=\"https://colab.research.google.com/github/nilberthsouza/Classificador-de-Sentimentos/blob/master/Lista2Estatistica.ipynb\" target=\"_parent\"><img src=\"https://colab.research.google.com/assets/colab-badge.svg\" alt=\"Open In Colab\"/></a>"
      ]
    },
    {
      "cell_type": "code",
      "execution_count": 9,
      "metadata": {
        "id": "e1oC_35xwLRV"
      },
      "outputs": [],
      "source": [
        "import numpy as np\n",
        "import scipy as sp\n",
        "import sympy as smp\n",
        "import matplotlib.pyplot as plt\n",
        "\n",
        "x  = smp.symbols('x',real=True)\n",
        "\n"
      ]
    },
    {
      "cell_type": "markdown",
      "source": [
        "Suponha que uma variavel aleatoria X tenha funcao de densidade de probabilidade\n",
        "\n",
        "$\n",
        "f(x) =\n",
        "\\left\\{\n",
        "\t\\begin{array}{ll}\n",
        "\t\t0  & \\mbox{se } x < 0 \\mbox{ ou } x > 2 \\\\\n",
        "\t\t-x & \\mbox{if } x  0 \\leq x \\leq 2\n",
        "\t\\end{array}\n",
        "\\right.\n",
        "$\n",
        "\n",
        "\n"
      ],
      "metadata": {
        "id": "8RdzB20Cy3ba"
      }
    },
    {
      "cell_type": "markdown",
      "source": [
        "a) Calcule P(0 ≤ X ≤ 2)"
      ],
      "metadata": {
        "id": "OwE0lEYwzpdn"
      }
    },
    {
      "cell_type": "code",
      "source": [
        "\n",
        "f = x*1/2\n",
        "smp.integrate(f, (x,0,2))"
      ],
      "metadata": {
        "colab": {
          "base_uri": "https://localhost:8080/",
          "height": 37
        },
        "id": "wcdwHWITzxJw",
        "outputId": "f3dca14c-13e8-4977-f889-01da3b2ebed7"
      },
      "execution_count": 10,
      "outputs": [
        {
          "output_type": "execute_result",
          "data": {
            "text/plain": [
              "1"
            ],
            "text/latex": "$\\displaystyle 1$"
          },
          "metadata": {},
          "execution_count": 10
        }
      ]
    },
    {
      "cell_type": "markdown",
      "source": [
        "Calcule E(X)"
      ],
      "metadata": {
        "id": "KwoEKW5P2_FP"
      }
    },
    {
      "cell_type": "code",
      "source": [
        "f = (x**2)/2\n",
        "smp.integrate(f, (x,0,2))"
      ],
      "metadata": {
        "colab": {
          "base_uri": "https://localhost:8080/",
          "height": 51
        },
        "id": "LJW1VGZC11ev",
        "outputId": "f781abff-11a5-45e1-df15-aedf7a732592"
      },
      "execution_count": 11,
      "outputs": [
        {
          "output_type": "execute_result",
          "data": {
            "text/plain": [
              "4/3"
            ],
            "text/latex": "$\\displaystyle \\frac{4}{3}$"
          },
          "metadata": {},
          "execution_count": 11
        }
      ]
    },
    {
      "cell_type": "markdown",
      "source": [
        "Calcule Var(x)"
      ],
      "metadata": {
        "id": "CvgXm5bQ3JQd"
      }
    },
    {
      "cell_type": "code",
      "source": [
        "f = (x**3)/2\n",
        "(smp.integrate(f, (x,0,2)) - ((4/3)**2))"
      ],
      "metadata": {
        "colab": {
          "base_uri": "https://localhost:8080/",
          "height": 37
        },
        "id": "N7MA5DoX3KqN",
        "outputId": "7dc1350a-d659-4881-9e8d-af0a78dc54e7"
      },
      "execution_count": 12,
      "outputs": [
        {
          "output_type": "execute_result",
          "data": {
            "text/plain": [
              "0.222222222222222"
            ],
            "text/latex": "$\\displaystyle 0.222222222222222$"
          },
          "metadata": {},
          "execution_count": 12
        }
      ]
    },
    {
      "cell_type": "markdown",
      "source": [
        " Uma maquina produz barras de chocolate de forma aleatoria. Suponha que\n",
        "a variavel aleatoria que representa o peso de cada barra tenha uma distribuicao normal, com valor\n",
        "medio igual a 300g e variancia igual a 144g^2\n",
        "Calcule a probabilidade de uma barra de chocolate produzida por esta maquina pesar entre\n",
        "300 − 2N e 315 − N gramas."
      ],
      "metadata": {
        "id": "8hz6f0cW35sa"
      }
    },
    {
      "cell_type": "code",
      "source": [
        "a = (-1)*(280-300)/12\n",
        "b = (315-300)/12\n",
        "\n",
        "a"
      ],
      "metadata": {
        "colab": {
          "base_uri": "https://localhost:8080/"
        },
        "id": "jRoiAG0B3gUI",
        "outputId": "67c869d8-da55-40d7-b14d-f27fcccdfdb2"
      },
      "execution_count": 25,
      "outputs": [
        {
          "output_type": "execute_result",
          "data": {
            "text/plain": [
              "-1.6666666666666667"
            ]
          },
          "metadata": {},
          "execution_count": 25
        }
      ]
    },
    {
      "cell_type": "code",
      "source": [
        "scipy.stats.norm(0,1).pdf(b)\n"
      ],
      "metadata": {
        "colab": {
          "base_uri": "https://localhost:8080/"
        },
        "id": "ETHPAzs_5DQu",
        "outputId": "9ced695e-8cf2-45d6-904f-e8598b9a7586"
      },
      "execution_count": 32,
      "outputs": [
        {
          "output_type": "execute_result",
          "data": {
            "text/plain": [
              "0.18264908538902191"
            ]
          },
          "metadata": {},
          "execution_count": 32
        }
      ]
    },
    {
      "cell_type": "code",
      "source": [
        ""
      ],
      "metadata": {
        "id": "ra64rV5H6fPa"
      },
      "execution_count": null,
      "outputs": []
    }
  ]
}